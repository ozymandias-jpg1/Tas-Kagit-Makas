{
 "cells": [
  {
   "cell_type": "code",
   "execution_count": 12,
   "id": "aa25ab57-b7cf-4903-8254-704d5021b164",
   "metadata": {},
   "outputs": [
    {
     "name": "stdout",
     "output_type": "stream",
     "text": [
      "Taş Kağıt Makasa Hoşgeldiniz!\n"
     ]
    },
    {
     "name": "stdin",
     "output_type": "stream",
     "text": [
      "Seçiminizi yapın (Taş, Kağıt, Makas):  fkdakv\n"
     ]
    },
    {
     "name": "stdout",
     "output_type": "stream",
     "text": [
      "Geçersiz bir seçim yaptınız. Lütfen Taş, Kağıt veya Makas yazın.\n"
     ]
    }
   ],
   "source": [
    "import random\n",
    "\n",
    "print('Taş Kağıt Makasa Hoşgeldiniz!')\n",
    "\n",
    "\n",
    "oyuncu_seçimi = input('Seçiminizi yapın (Taş, Kağıt, Makas): ').capitalize()\n",
    "\n",
    "if oyuncu_seçimi not in ['Taş', 'Kağıt', 'Makas']:\n",
    "    print('Geçersiz bir seçim yaptınız. Lütfen Taş, Kağıt veya Makas yazın.')\n",
    "else:\n",
    "    bilgisayar_seçimi = random.choice(['Taş', 'Kağıt', 'Makas'])\n",
    "    print(f'Bilgisayarın Seçimi: {bilgisayar_seçimi}')\n",
    "    \n",
    "    if oyuncu_seçimi == bilgisayar_seçimi:\n",
    "        print('Berabere!')\n",
    "    elif (\n",
    "        (oyuncu_seçimi == 'Taş' and bilgisayar_seçimi == 'Makas') or\n",
    "        (oyuncu_seçimi == 'Kağıt' and bilgisayar_seçimi == 'Taş') or\n",
    "        (oyuncu_seçimi == 'Makas' and bilgisayar_seçimi == 'Kağı')\n",
    "    ):\n",
    "        print('Tebrikler, kazandınız!')\n",
    "    else:\n",
    "        print('Maalesef, kaybettiniz!')\n"
   ]
  },
  {
   "cell_type": "code",
   "execution_count": null,
   "id": "03503929-914e-449e-9520-34d12e07135b",
   "metadata": {},
   "outputs": [],
   "source": []
  },
  {
   "cell_type": "code",
   "execution_count": null,
   "id": "5acba2a1-8c6e-480b-81bd-e078a3b0f8c2",
   "metadata": {},
   "outputs": [],
   "source": []
  }
 ],
 "metadata": {
  "kernelspec": {
   "display_name": "Python [conda env:base] *",
   "language": "python",
   "name": "conda-base-py"
  },
  "language_info": {
   "codemirror_mode": {
    "name": "ipython",
    "version": 3
   },
   "file_extension": ".py",
   "mimetype": "text/x-python",
   "name": "python",
   "nbconvert_exporter": "python",
   "pygments_lexer": "ipython3",
   "version": "3.12.7"
  }
 },
 "nbformat": 4,
 "nbformat_minor": 5
}
